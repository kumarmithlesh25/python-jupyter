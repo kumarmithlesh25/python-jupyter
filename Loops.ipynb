{
 "cells": [
  {
   "cell_type": "code",
   "execution_count": 1,
   "metadata": {},
   "outputs": [
    {
     "name": "stdout",
     "output_type": "stream",
     "text": [
      "apple\n",
      "banana\n",
      "guava\n"
     ]
    }
   ],
   "source": [
    "# How a smiple for loop looks like\n",
    "list = [\"apple\", \"banana\", \"guava\"]\n",
    "\n",
    "# print all the elements of the list\n",
    "for element in list:\n",
    "    print(element)"
   ]
  },
  {
   "cell_type": "code",
   "execution_count": 2,
   "metadata": {},
   "outputs": [
    {
     "name": "stdout",
     "output_type": "stream",
     "text": [
      "1\n",
      "2\n",
      "3\n",
      "4\n",
      "5\n"
     ]
    }
   ],
   "source": [
    "# print all the elements of an integer array\n",
    "integerList = [1,2,3,4,5]\n",
    "for e in integerList:\n",
    "    print(e)"
   ]
  },
  {
   "cell_type": "code",
   "execution_count": 3,
   "metadata": {},
   "outputs": [
    {
     "name": "stdout",
     "output_type": "stream",
     "text": [
      "1\n",
      "2\n",
      "3\n",
      "4\n"
     ]
    }
   ],
   "source": [
    "# We can also use range function provided by Python to construct a list of integers\n",
    "integerList2 = range(1, 5) # This creates a list of integers from 1 to 5 excluding 5\n",
    "for e in integerList2:\n",
    "    print(e)"
   ]
  },
  {
   "cell_type": "code",
   "execution_count": 5,
   "metadata": {},
   "outputs": [
    {
     "name": "stdout",
     "output_type": "stream",
     "text": [
      "15\n"
     ]
    }
   ],
   "source": [
    "# Find the sum of all integers in a list\n",
    "integerList3 = range(1, 6)\n",
    "sum0 = 0\n",
    "for e in integerList3:\n",
    "    sum0 += e\n",
    "print(sum0)"
   ]
  },
  {
   "cell_type": "code",
   "execution_count": 6,
   "metadata": {},
   "outputs": [
    {
     "name": "stdout",
     "output_type": "stream",
     "text": [
      "2\n"
     ]
    }
   ],
   "source": [
    "# Introducing modulo operator\n",
    "remainder = 5 % 3\n",
    "# remainder variable should not have a value 2\n",
    "print(remainder)"
   ]
  },
  {
   "cell_type": "code",
   "execution_count": 7,
   "metadata": {},
   "outputs": [
    {
     "name": "stdout",
     "output_type": "stream",
     "text": [
      "9\n"
     ]
    }
   ],
   "source": [
    "# find the sum of all the integers that are the factors of 3 in a list \n",
    "sum1 = 0\n",
    "integerList4 = range(1,8)\n",
    "\n",
    "for e in integerList4:\n",
    "    if e % 3 == 0:\n",
    "        sum1 += e\n",
    "        \n",
    "print(sum1)"
   ]
  },
  {
   "cell_type": "code",
   "execution_count": 8,
   "metadata": {},
   "outputs": [
    {
     "name": "stdout",
     "output_type": "stream",
     "text": [
      "15\n",
      " is divisible by 3 and 5\n",
      "30\n",
      " is divisible by 3 and 5\n",
      "45\n",
      " is divisible by 3 and 5\n",
      "60\n",
      " is divisible by 3 and 5\n",
      "75\n",
      " is divisible by 3 and 5\n",
      "90\n",
      " is divisible by 3 and 5\n",
      "315\n"
     ]
    }
   ],
   "source": [
    "# Excercise - Find the sum of all the integers less than 100 which are divisible by 3 and 5\n",
    "sum2 = 0\n",
    "integerList5 = range(1,100)\n",
    "\n",
    "for e in integerList5:\n",
    "    if e % 15 == 0:\n",
    "        print(e)\n",
    "        print(\" is divisible by 3 and 5\")\n",
    "        sum2 += e\n",
    "        \n",
    "print(sum2)"
   ]
  },
  {
   "cell_type": "code",
   "execution_count": null,
   "metadata": {},
   "outputs": [],
   "source": []
  }
 ],
 "metadata": {
  "kernelspec": {
   "display_name": "Python 3",
   "language": "python",
   "name": "python3"
  },
  "language_info": {
   "codemirror_mode": {
    "name": "ipython",
    "version": 3
   },
   "file_extension": ".py",
   "mimetype": "text/x-python",
   "name": "python",
   "nbconvert_exporter": "python",
   "pygments_lexer": "ipython3",
   "version": "3.7.4"
  }
 },
 "nbformat": 4,
 "nbformat_minor": 2
}
