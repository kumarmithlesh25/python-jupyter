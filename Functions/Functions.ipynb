{
 "cells": [
  {
   "cell_type": "code",
   "execution_count": 6,
   "metadata": {},
   "outputs": [
    {
     "name": "stdout",
     "output_type": "stream",
     "text": [
      "Outside\n"
     ]
    }
   ],
   "source": [
    "# Functions are collections of code\n",
    "def function1():\n",
    "    print(\"ahh\")\n",
    "print(\"Outside\")"
   ]
  },
  {
   "cell_type": "code",
   "execution_count": 7,
   "metadata": {},
   "outputs": [
    {
     "name": "stdout",
     "output_type": "stream",
     "text": [
      "ahh\n"
     ]
    }
   ],
   "source": [
    "function1()"
   ]
  },
  {
   "cell_type": "code",
   "execution_count": 8,
   "metadata": {},
   "outputs": [],
   "source": [
    "name1 = \"YK\"\n",
    "weight_kg1 = 85\n",
    "height_m1 = 1.74\n",
    "\n",
    "name2 = \"YK's brother\"\n",
    "weight_kg2 = 82\n",
    "height_m2 = 1.73\n",
    "\n",
    "def bmi_calculator(name, weight_kg, height_m):\n",
    "    bmi = weight_kg / height_m ** 2\n",
    "    print(\"bmi\")\n",
    "    print(bmi)\n",
    "    \n",
    "    if bmi < 25:\n",
    "        return name + \"is not overwieght\"\n",
    "    else:\n",
    "        return name + \"is overweight\""
   ]
  },
  {
   "cell_type": "code",
   "execution_count": 9,
   "metadata": {},
   "outputs": [
    {
     "name": "stdout",
     "output_type": "stream",
     "text": [
      "bmi\n",
      "28.075042938300964\n",
      "bmi\n",
      "27.39817568244846\n",
      "YKis overweight\n",
      "YK's brotheris overweight\n"
     ]
    }
   ],
   "source": [
    "result1 = bmi_calculator(name1, weight_kg1, height_m1)\n",
    "result2 = bmi_calculator(name2, weight_kg2, height_m2)\n",
    "\n",
    "print(result1)\n",
    "print(result2)"
   ]
  },
  {
   "cell_type": "code",
   "execution_count": 10,
   "metadata": {},
   "outputs": [],
   "source": [
    "# Write a function to convert miles to KM\n",
    "\n",
    "def miles_to_km_converter(miles):\n",
    "    return miles * 1.6"
   ]
  },
  {
   "cell_type": "code",
   "execution_count": 11,
   "metadata": {},
   "outputs": [
    {
     "ename": "NameError",
     "evalue": "name 'kms' is not defined",
     "output_type": "error",
     "traceback": [
      "\u001b[0;31m---------------------------------------------------------------------------\u001b[0m",
      "\u001b[0;31mNameError\u001b[0m                                 Traceback (most recent call last)",
      "\u001b[0;32m<ipython-input-11-f8e2b1ca6646>\u001b[0m in \u001b[0;36m<module>\u001b[0;34m\u001b[0m\n\u001b[1;32m      1\u001b[0m \u001b[0mkm\u001b[0m \u001b[0;34m=\u001b[0m \u001b[0mmiles_to_km_converter\u001b[0m\u001b[0;34m(\u001b[0m\u001b[0;36m1\u001b[0m\u001b[0;34m)\u001b[0m\u001b[0;34m\u001b[0m\u001b[0;34m\u001b[0m\u001b[0m\n\u001b[0;32m----> 2\u001b[0;31m \u001b[0mprint\u001b[0m\u001b[0;34m(\u001b[0m\u001b[0mkms\u001b[0m\u001b[0;34m)\u001b[0m\u001b[0;34m\u001b[0m\u001b[0;34m\u001b[0m\u001b[0m\n\u001b[0m",
      "\u001b[0;31mNameError\u001b[0m: name 'kms' is not defined"
     ]
    }
   ],
   "source": [
    "km = miles_to_km_converter(1)\n",
    "print(kms)"
   ]
  },
  {
   "cell_type": "code",
   "execution_count": null,
   "metadata": {},
   "outputs": [],
   "source": []
  }
 ],
 "metadata": {
  "kernelspec": {
   "display_name": "Python 3",
   "language": "python",
   "name": "python3"
  },
  "language_info": {
   "codemirror_mode": {
    "name": "ipython",
    "version": 3
   },
   "file_extension": ".py",
   "mimetype": "text/x-python",
   "name": "python",
   "nbconvert_exporter": "python",
   "pygments_lexer": "ipython3",
   "version": "3.7.4"
  }
 },
 "nbformat": 4,
 "nbformat_minor": 2
}
