{
 "cells": [
  {
   "cell_type": "code",
   "execution_count": 2,
   "metadata": {},
   "outputs": [
    {
     "name": "stdout",
     "output_type": "stream",
     "text": [
      "Mithlesh\n",
      "BMI:\n",
      "25.71166207529844\n",
      "Mithlesh\n",
      " is overwieght\n"
     ]
    }
   ],
   "source": [
    "# Implementa BMI calculator and print if a person is overweight or not\n",
    "\n",
    "name = \"Mithlesh\"\n",
    "height_m = 1.65\n",
    "weight_kg = \n",
    "bmi = weight_kg / (height_m ** 2)\n",
    "\n",
    "print(name)\n",
    "print(\"BMI:\")\n",
    "print(bmi)\n",
    "\n",
    "if bmi < 25:\n",
    "    print(name)\n",
    "    print(\" is not overwieght\")\n",
    "else:\n",
    "    print(name)\n",
    "    print(\" is overwieght\")"
   ]
  },
  {
   "cell_type": "code",
   "execution_count": null,
   "metadata": {},
   "outputs": [],
   "source": []
  }
 ],
 "metadata": {
  "kernelspec": {
   "display_name": "Python 3",
   "language": "python",
   "name": "python3"
  },
  "language_info": {
   "codemirror_mode": {
    "name": "ipython",
    "version": 3
   },
   "file_extension": ".py",
   "mimetype": "text/x-python",
   "name": "python",
   "nbconvert_exporter": "python",
   "pygments_lexer": "ipython3",
   "version": "3.7.4"
  }
 },
 "nbformat": 4,
 "nbformat_minor": 2
}
